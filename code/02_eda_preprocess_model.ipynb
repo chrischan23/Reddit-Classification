{
 "cells": [
  {
   "cell_type": "markdown",
   "metadata": {},
   "source": [
    "# Exploratory Data Analysis & Modelling\n",
    "\n",
    "In this notebook, we will be performing our exploratory data analysis to find any trends and relationship bewteen words of each subreddit. In addition we will proceed with our modelling where we will choose the best model and evaluate it. "
   ]
  },
  {
   "cell_type": "markdown",
   "metadata": {},
   "source": [
    "### Contents:\n",
    "* [Import Libraries & Read Dataset](#Import-Libraries-&-Read-Dataset)  \n",
    " * [r/JapanTravel](#r/JapanTravel)\n",
    " * [r/SoloTravel](#r/SoloTravel)\n",
    "* [Exploratory Data Analysis](#Exploratory-Data-Analysis)\n",
    " * [Explore Most Frequent Occuring Words in Title Feature](#Explore-Most-Frequent-Occuring-Words-in-Title-Feature)\n",
    " * [Explore Most Frequent Occuring Words in Posts Feature](#Explore-Most-Frequent-Occuring-Words-in-Posts-Feature)\n",
    "  * [Unigram](#Unigram)\n",
    "  * [Bigram](#Bigram)\n",
    "* [Preprocessing](#Preprocessing)\n",
    "* [Baseline](#Baseline)\n",
    "* [Modelling](#Modelling)\n",
    " * [Create X features and target y](#Create-X-features-and-target-y)\n",
    " * [Train Test Split](#Train-Test-Split)\n",
    "* [Logistic Regression Model](#Logistic-Regression-Model)\n",
    " * [Logistic Regression (with CountVectorizer)](#Logistic-Regression-(with-CountVectorizer))\n",
    " * [Logistic Regression (with TFIDF Vectorizer)](#Logistic-Regression-(with-TFIDF-Vectorizer))\n",
    "* [Naive Bayes Model (Multinomial)](#Naive-Bayes-Model-(Multinomial))\n",
    " * [Multinomial Naive Bayes (with CountVectorizer)](#Multinomial-Naive-Bayes-(with-CountVectorizer))\n",
    " * [Multinomial Naive Bayes (with TFIDF Vectorizer)](#Multinomial-Naive-Bayes-(with-TFIDF-Vectorizer))\n",
    "* [Model Selection](#Model-Selection)\n",
    "* [Model Test Data](#Model-Test-Data)\n",
    "* [Analysis of Coefficients](#Analysis-of-Coefficients)\n",
    "* [Classification Metrics](#Classification-Metrics)\n",
    " * [Precision](#Precision)\n",
    " * [Recall](#Recall)\n",
    " * [F1](#F1)\n",
    "* [Recomendations and Conclusions](#Recomendations-and-Conclusions)\n",
    "* [Further Exploration](#Further-Exploration)"
   ]
  },
  {
   "cell_type": "markdown",
   "metadata": {},
   "source": [
    "## Import Libraries & Read Dataset"
   ]
  },
  {
   "cell_type": "code",
   "execution_count": 113,
   "metadata": {},
   "outputs": [],
   "source": [
    "#import basic libraries:\n",
    "import numpy as np\n",
    "import pandas as pd\n",
    "import seaborn as sns\n",
    "import matplotlib.pyplot as plt\n",
    "%matplotlib inline\n",
    "\n",
    "#scikitlearn\n",
    "from sklearn.model_selection import train_test_split, GridSearchCV, cross_val_score\n",
    "from sklearn.pipeline import Pipeline\n",
    "from sklearn.linear_model import LogisticRegression\n",
    "from sklearn.ensemble import BaggingClassifier, RandomForestClassifier\n",
    "from sklearn import metrics\n",
    "from sklearn.metrics import confusion_matrix, roc_auc_score, classification_report, accuracy_score\n",
    "from sklearn.feature_extraction.text import CountVectorizer, TfidfVectorizer\n",
    "from sklearn.feature_extraction import stop_words\n",
    "from sklearn.naive_bayes import MultinomialNB\n",
    "\n",
    "#nlp\n",
    "from nltk.tokenize import RegexpTokenizer\n",
    "from nltk.stem import WordNetLemmatizer\n",
    "from nltk.stem.porter import PorterStemmer\n",
    "from nltk.corpus import stopwords\n",
    "import regex as re\n",
    "from bs4 import BeautifulSoup   "
   ]
  },
  {
   "cell_type": "code",
   "execution_count": 2,
   "metadata": {},
   "outputs": [],
   "source": [
    "japan_df = pd.read_csv(\"../datasets/japan_travel.csv\")\n",
    "solo_df = pd.read_csv(\"../datasets/solo_travel.csv\")"
   ]
  },
  {
   "cell_type": "markdown",
   "metadata": {},
   "source": [
    "##### r/JapanTravel"
   ]
  },
  {
   "cell_type": "code",
   "execution_count": 3,
   "metadata": {},
   "outputs": [
    {
     "data": {
      "text/plain": [
       "(980, 5)"
      ]
     },
     "execution_count": 3,
     "metadata": {},
     "output_type": "execute_result"
    }
   ],
   "source": [
    "japan_df.shape"
   ]
  },
  {
   "cell_type": "code",
   "execution_count": 4,
   "metadata": {
    "scrolled": true
   },
   "outputs": [
    {
     "data": {
      "text/html": [
       "<div>\n",
       "<style scoped>\n",
       "    .dataframe tbody tr th:only-of-type {\n",
       "        vertical-align: middle;\n",
       "    }\n",
       "\n",
       "    .dataframe tbody tr th {\n",
       "        vertical-align: top;\n",
       "    }\n",
       "\n",
       "    .dataframe thead th {\n",
       "        text-align: right;\n",
       "    }\n",
       "</style>\n",
       "<table border=\"1\" class=\"dataframe\">\n",
       "  <thead>\n",
       "    <tr style=\"text-align: right;\">\n",
       "      <th></th>\n",
       "      <th>author</th>\n",
       "      <th>title</th>\n",
       "      <th>selftext</th>\n",
       "      <th>subreddit</th>\n",
       "      <th>posts</th>\n",
       "    </tr>\n",
       "  </thead>\n",
       "  <tbody>\n",
       "    <tr>\n",
       "      <th>count</th>\n",
       "      <td>980</td>\n",
       "      <td>980</td>\n",
       "      <td>978</td>\n",
       "      <td>980</td>\n",
       "      <td>980</td>\n",
       "    </tr>\n",
       "    <tr>\n",
       "      <th>unique</th>\n",
       "      <td>838</td>\n",
       "      <td>979</td>\n",
       "      <td>977</td>\n",
       "      <td>1</td>\n",
       "      <td>980</td>\n",
       "    </tr>\n",
       "    <tr>\n",
       "      <th>top</th>\n",
       "      <td>amyranthlovely</td>\n",
       "      <td>Itinerary check - 9 Days Couple Trip (29/2 - 8...</td>\n",
       "      <td>Hey everybody!\\n\\nI've been using /r/JapanTrav...</td>\n",
       "      <td>JapanTravel</td>\n",
       "      <td>How cheap are the Japanese versions of GameCub...</td>\n",
       "    </tr>\n",
       "    <tr>\n",
       "      <th>freq</th>\n",
       "      <td>25</td>\n",
       "      <td>2</td>\n",
       "      <td>2</td>\n",
       "      <td>980</td>\n",
       "      <td>1</td>\n",
       "    </tr>\n",
       "  </tbody>\n",
       "</table>\n",
       "</div>"
      ],
      "text/plain": [
       "                author                                              title  \\\n",
       "count              980                                                980   \n",
       "unique             838                                                979   \n",
       "top     amyranthlovely  Itinerary check - 9 Days Couple Trip (29/2 - 8...   \n",
       "freq                25                                                  2   \n",
       "\n",
       "                                                 selftext    subreddit  \\\n",
       "count                                                 978          980   \n",
       "unique                                                977            1   \n",
       "top     Hey everybody!\\n\\nI've been using /r/JapanTrav...  JapanTravel   \n",
       "freq                                                    2          980   \n",
       "\n",
       "                                                    posts  \n",
       "count                                                 980  \n",
       "unique                                                980  \n",
       "top     How cheap are the Japanese versions of GameCub...  \n",
       "freq                                                    1  "
      ]
     },
     "execution_count": 4,
     "metadata": {},
     "output_type": "execute_result"
    }
   ],
   "source": [
    "japan_df.describe()"
   ]
  },
  {
   "cell_type": "markdown",
   "metadata": {},
   "source": [
    "##### r/SoloTravel"
   ]
  },
  {
   "cell_type": "code",
   "execution_count": 5,
   "metadata": {},
   "outputs": [
    {
     "data": {
      "text/plain": [
       "(892, 5)"
      ]
     },
     "execution_count": 5,
     "metadata": {},
     "output_type": "execute_result"
    }
   ],
   "source": [
    "solo_df.shape"
   ]
  },
  {
   "cell_type": "code",
   "execution_count": 6,
   "metadata": {},
   "outputs": [
    {
     "data": {
      "text/html": [
       "<div>\n",
       "<style scoped>\n",
       "    .dataframe tbody tr th:only-of-type {\n",
       "        vertical-align: middle;\n",
       "    }\n",
       "\n",
       "    .dataframe tbody tr th {\n",
       "        vertical-align: top;\n",
       "    }\n",
       "\n",
       "    .dataframe thead th {\n",
       "        text-align: right;\n",
       "    }\n",
       "</style>\n",
       "<table border=\"1\" class=\"dataframe\">\n",
       "  <thead>\n",
       "    <tr style=\"text-align: right;\">\n",
       "      <th></th>\n",
       "      <th>author</th>\n",
       "      <th>title</th>\n",
       "      <th>selftext</th>\n",
       "      <th>subreddit</th>\n",
       "      <th>posts</th>\n",
       "    </tr>\n",
       "  </thead>\n",
       "  <tbody>\n",
       "    <tr>\n",
       "      <th>count</th>\n",
       "      <td>892</td>\n",
       "      <td>892</td>\n",
       "      <td>885</td>\n",
       "      <td>892</td>\n",
       "      <td>892</td>\n",
       "    </tr>\n",
       "    <tr>\n",
       "      <th>unique</th>\n",
       "      <td>751</td>\n",
       "      <td>892</td>\n",
       "      <td>885</td>\n",
       "      <td>1</td>\n",
       "      <td>892</td>\n",
       "    </tr>\n",
       "    <tr>\n",
       "      <th>top</th>\n",
       "      <td>phoneinsick</td>\n",
       "      <td>Been planning a trip for a year, now I can't r...</td>\n",
       "      <td>I was pretty disappointed with Dublin. Maybe i...</td>\n",
       "      <td>solotravel</td>\n",
       "      <td>I finally book a trip this year and my flight ...</td>\n",
       "    </tr>\n",
       "    <tr>\n",
       "      <th>freq</th>\n",
       "      <td>12</td>\n",
       "      <td>1</td>\n",
       "      <td>1</td>\n",
       "      <td>892</td>\n",
       "      <td>1</td>\n",
       "    </tr>\n",
       "  </tbody>\n",
       "</table>\n",
       "</div>"
      ],
      "text/plain": [
       "             author                                              title  \\\n",
       "count           892                                                892   \n",
       "unique          751                                                892   \n",
       "top     phoneinsick  Been planning a trip for a year, now I can't r...   \n",
       "freq             12                                                  1   \n",
       "\n",
       "                                                 selftext   subreddit  \\\n",
       "count                                                 885         892   \n",
       "unique                                                885           1   \n",
       "top     I was pretty disappointed with Dublin. Maybe i...  solotravel   \n",
       "freq                                                    1         892   \n",
       "\n",
       "                                                    posts  \n",
       "count                                                 892  \n",
       "unique                                                892  \n",
       "top     I finally book a trip this year and my flight ...  \n",
       "freq                                                    1  "
      ]
     },
     "execution_count": 6,
     "metadata": {},
     "output_type": "execute_result"
    }
   ],
   "source": [
    "solo_df.describe()"
   ]
  },
  {
   "cell_type": "markdown",
   "metadata": {},
   "source": [
    "### Exploratory Data Analysis\n",
    "\n",
    "In our exploratory data analysis, we will be looking to explore any interesting trends and analysis through visualisations.\n",
    "\n",
    "As we are relying our model to precict words of the subreddit to classify into the 2 reddit posts, we will first explore the most common words that frequently occur in both the title only and the posts with title in totality. \n",
    "\n",
    "To do this we will use Natural Language Processing (NLP) which allows computers to understand our human language on how to examine and sort these words that we feed to it."
   ]
  },
  {
   "cell_type": "markdown",
   "metadata": {},
   "source": [
    "#### Explore Most Frequent Occuring Words in Title Feature\n",
    "\n",
    "Here we will use a CountVectorizer to convert the text data of the various title of each reddit post while removing common english stopwords. We remove these stop words as they create noise within our text data and are not essential for classification. "
   ]
  },
  {
   "cell_type": "markdown",
   "metadata": {},
   "source": [
    "##### JapanTravel"
   ]
  },
  {
   "cell_type": "code",
   "execution_count": 7,
   "metadata": {},
   "outputs": [
    {
     "name": "stdout",
     "output_type": "stream",
     "text": [
      "Number of features: 1574\n"
     ]
    }
   ],
   "source": [
    "#Instantiate a CountVectorizer while removing stop words\n",
    "cvec = CountVectorizer(stop_words='english')\n",
    "\n",
    "# Fit our vectorizer using our corpus\n",
    "cvec_japan = cvec.fit_transform(japan_df['title'])\n",
    "\n",
    "print('Number of features: {}'.format(len(cvec.get_feature_names())))"
   ]
  },
  {
   "cell_type": "code",
   "execution_count": 8,
   "metadata": {},
   "outputs": [],
   "source": [
    "#Convert to dataframe\n",
    "japan_title = pd.DataFrame(cvec_japan.toarray(),\n",
    "                      columns = cvec.get_feature_names())"
   ]
  },
  {
   "cell_type": "code",
   "execution_count": 9,
   "metadata": {},
   "outputs": [
    {
     "data": {
      "text/plain": [
       "tokyo              271\n",
       "itinerary          258\n",
       "check              158\n",
       "kyoto              153\n",
       "japan              146\n",
       "trip               137\n",
       "osaka              120\n",
       "days                73\n",
       "march               65\n",
       "april               65\n",
       "2021                65\n",
       "day                 63\n",
       "gt                  52\n",
       "2020                50\n",
       "report              43\n",
       "advice              43\n",
       "travel              43\n",
       "hakone              37\n",
       "recommendations     36\n",
       "weeks               35\n",
       "dtype: int64"
      ]
     },
     "execution_count": 9,
     "metadata": {},
     "output_type": "execute_result"
    }
   ],
   "source": [
    "#top 20 words\n",
    "japan_title.sum().sort_values(ascending=False).head(20)"
   ]
  },
  {
   "cell_type": "markdown",
   "metadata": {},
   "source": [
    "##### SoloTravel"
   ]
  },
  {
   "cell_type": "code",
   "execution_count": 10,
   "metadata": {},
   "outputs": [
    {
     "name": "stdout",
     "output_type": "stream",
     "text": [
      "Number of features: 1700\n"
     ]
    }
   ],
   "source": [
    "# Fit our vectorizer using our corpus\n",
    "cvec_solo = cvec.fit_transform(solo_df['title'])\n",
    "\n",
    "print('Number of features: {}'.format(len(cvec.get_feature_names())))"
   ]
  },
  {
   "cell_type": "code",
   "execution_count": 11,
   "metadata": {},
   "outputs": [],
   "source": [
    "#Convert to dataframe\n",
    "solo_title = pd.DataFrame(cvec_solo.toarray(),\n",
    "                      columns = cvec.get_feature_names())"
   ]
  },
  {
   "cell_type": "code",
   "execution_count": 12,
   "metadata": {},
   "outputs": [
    {
     "data": {
      "text/plain": [
       "solo          191\n",
       "travel        188\n",
       "trip          105\n",
       "traveling      81\n",
       "long           34\n",
       "travelling     34\n",
       "time           33\n",
       "europe         32\n",
       "people         30\n",
       "advice         30\n",
       "covid          28\n",
       "best           26\n",
       "year           26\n",
       "tips           23\n",
       "country        22\n",
       "new            22\n",
       "does           22\n",
       "mexico         21\n",
       "did            21\n",
       "road           21\n",
       "dtype: int64"
      ]
     },
     "execution_count": 12,
     "metadata": {},
     "output_type": "execute_result"
    }
   ],
   "source": [
    "#top 20 words\n",
    "solo_title.sum().sort_values(ascending=False).head(20)"
   ]
  },
  {
   "cell_type": "code",
   "execution_count": 13,
   "metadata": {},
   "outputs": [
    {
     "data": {
      "image/png": "[encoded data removed]",
      "text/plain": [
       "<Figure size 1080x720 with 2 Axes>"
      ]
     },
     "metadata": {
      "needs_background": "light"
     },
     "output_type": "display_data"
    }
   ],
   "source": [
    "japan_title_20 = japan_title.sum().sort_values(ascending=False).head(20)\n",
    "solo_title_20 = solo_title.sum().sort_values(ascending=False).head(20)\n",
    "\n",
    "fig, ax = plt.subplots(1, 2, figsize=(15,10), sharex = True)\n",
    "\n",
    "#r/JapanTravel\n",
    "sns.barplot(y=japan_title_20.index.values, x = japan_title_20, color='blue', ax=ax[0])\n",
    "ax[0].set_title(\"Top 20 Frequently Words in r/JapanTravel\", fontsize=16)\n",
    "ax[0].set_xlabel('count of words', fontsize=13)\n",
    "plt.setp(ax[0].get_yticklabels(), fontsize=14)\n",
    "\n",
    "#r/SoloTravel\n",
    "sns.barplot(y=solo_title_20.index.values, x = solo_title_20, color='red',ax=ax[1])\n",
    "ax[1].set_title(\"Top 20 Frequently Words in r/SoloTravel\",fontsize=16)\n",
    "ax[1].set_xlabel('count of words', fontsize=13)\n",
    "plt.setp(ax[1].get_yticklabels(), fontsize=14)\n",
    "\n",
    "plt.tight_layout()"
   ]
  },
  {
   "cell_type": "markdown",
   "metadata": {},
   "source": [
    "#### Explore Most Frequent Occuring Words in Posts Feature\n",
    "\n",
    "Now we will look at the most common \"unigram(1-word)\" and \"bigram(2-words)\" words that occurs in both subreddit posts. By performing EDA on the posts, this will give us a further understanding on what distinguishes both subreddits with more text features available. \n",
    "\n",
    "We will first create a function to clean each post in both subreddits.\n",
    "\n",
    "1. Remove links using regex\n",
    "2. Remove non-letters using regex\n",
    "3. Convert text to lower case by using .lower() method\n",
    "4. Lemmatize words which gives us the base words\n",
    "5. Remove Stopwords which are common words in the english sentence structure like 'the\", \"them\".\n",
    "6. Join the words back and seperated by a space"
   ]
  },
  {
   "cell_type": "markdown",
   "metadata": {},
   "source": [
    "##### Unigram"
   ]
  },
  {
   "cell_type": "code",
   "execution_count": 14,
   "metadata": {},
   "outputs": [],
   "source": [
    "def text_processer(raw_text):\n",
    "    # Function to convert a raw string of text to a string of words\n",
    "    # The input is a single string (a raw unprocessed text), and \n",
    "    # the output is a single string (a preprocessed text)\n",
    "    \n",
    "    # 1. Remove \"http\", \"https\", \"www\", \".com\"\n",
    "    review_text = re.sub(\"(?:https?:\\/\\/)?(?:www\\.)|(?:https?:\\/\\/)?(?:www\\d\\.)|(\\.com)\", \" \", raw_text)\n",
    "        \n",
    "    # 2. Remove non-letters.\n",
    "    letters_only = re.sub(\"[^a-zA-Z]\", \" \", review_text)\n",
    "    \n",
    "    # 3. Convert to lower case, split into individual words.\n",
    "    words = letters_only.lower().split()\n",
    "    \n",
    "    # 4. Lemmatize words.\n",
    "    lemmed_words = [WordNetLemmatizer().lemmatize(i) for i in words]\n",
    "    \n",
    "    # 5. In Python, searching a set is much faster than searching\n",
    "    # a list, so convert the stop words to a set.\n",
    "    stops = set(stopwords.words('english'))\n",
    "    \n",
    "    # 6. Remove stop words.\n",
    "    meaningful_words = [w for w in lemmed_words if not w in stops]\n",
    "    \n",
    "    # 7. Join the words back into one string separated by space, \n",
    "    # and return the result.\n",
    "    return(\" \".join(meaningful_words))"
   ]
  },
  {
   "cell_type": "code",
   "execution_count": 15,
   "metadata": {},
   "outputs": [
    {
     "name": "stdout",
     "output_type": "stream",
     "text": [
      "There are 980 japan posts.\n",
      "There are 892 solo posts.\n"
     ]
    }
   ],
   "source": [
    "# Get the number of documents based on the dataframe size.\n",
    "total_japan_posts = len(japan_df['posts'])\n",
    "print(f'There are {total_japan_posts} japan posts.')\n",
    "\n",
    "total_solo_posts = len(solo_df['title'])\n",
    "print(f'There are {total_solo_posts} solo posts.')\n",
    "\n",
    "\n",
    "# Initialize an empty list to hold the clean reviews.\n",
    "clean_japan_posts = []\n",
    "clean_solo_posts = []"
   ]
  },
  {
   "cell_type": "code",
   "execution_count": 16,
   "metadata": {
    "scrolled": false
   },
   "outputs": [
    {
     "name": "stdout",
     "output_type": "stream",
     "text": [
      "Cleaning and parsing the japan posts...\n",
      "Posts 50 of 980.\n",
      "Posts 100 of 980.\n",
      "Posts 150 of 980.\n",
      "Posts 200 of 980.\n",
      "Posts 250 of 980.\n",
      "Posts 300 of 980.\n",
      "Posts 350 of 980.\n",
      "Posts 400 of 980.\n",
      "Posts 450 of 980.\n",
      "Posts 500 of 980.\n",
      "Posts 550 of 980.\n",
      "Posts 600 of 980.\n",
      "Posts 650 of 980.\n",
      "Posts 700 of 980.\n",
      "Posts 750 of 980.\n",
      "Posts 800 of 980.\n",
      "Posts 850 of 980.\n",
      "Posts 900 of 980.\n",
      "Posts 950 of 980.\n",
      "Cleaning and parsing the solo posts...\n",
      "Posts 50 of 892.\n",
      "Posts 100 of 892.\n",
      "Posts 150 of 892.\n",
      "Posts 200 of 892.\n",
      "Posts 250 of 892.\n",
      "Posts 300 of 892.\n",
      "Posts 350 of 892.\n",
      "Posts 400 of 892.\n",
      "Posts 450 of 892.\n",
      "Posts 500 of 892.\n",
      "Posts 550 of 892.\n",
      "Posts 600 of 892.\n",
      "Posts 650 of 892.\n",
      "Posts 700 of 892.\n",
      "Posts 750 of 892.\n",
      "Posts 800 of 892.\n",
      "Posts 850 of 892.\n"
     ]
    }
   ],
   "source": [
    "print(\"Cleaning and parsing the japan posts...\")\n",
    "\n",
    "j = 0\n",
    "for post in japan_df['posts']:\n",
    "    # Convert review to words, then append to clean_train_reviews.\n",
    "    clean_japan_posts.append(text_processer(post))\n",
    "    \n",
    "    # If the index is divisible by 200, print a message\n",
    "    if (j + 1) % 50 == 0:\n",
    "        print(f'Posts {j + 1} of {total_japan_posts}.')\n",
    "    \n",
    "    j += 1\n",
    "\n",
    "# Let's do the same for our SoloTravel posts.\n",
    "\n",
    "print(\"Cleaning and parsing the solo posts...\")\n",
    "\n",
    "k = 0\n",
    "for post in solo_df['posts']:\n",
    "    # Convert review to words, then append to clean_train_reviews.\n",
    "    clean_solo_posts.append(text_processer(post))\n",
    "    \n",
    "    # If the index is divisible by 50, print a message\n",
    "    if (k + 1) % 50 == 0:\n",
    "        print(f'Posts {k + 1} of {total_solo_posts}.')\n",
    "        \n",
    "    k += 1"
   ]
  },
  {
   "cell_type": "code",
   "execution_count": 17,
   "metadata": {
    "scrolled": false
   },
   "outputs": [
    {
     "name": "stdout",
     "output_type": "stream",
     "text": [
      "980\n",
      "892\n"
     ]
    }
   ],
   "source": [
    "print(len(clean_japan_posts))\n",
    "print(len(clean_solo_posts))"
   ]
  },
  {
   "cell_type": "code",
   "execution_count": 18,
   "metadata": {
    "scrolled": true
   },
   "outputs": [
    {
     "name": "stdout",
     "output_type": "stream",
     "text": [
      "discussion organizer express doubt hosting tokyo olympics amp future travel japan january original article asahi ajw article opening thread discussion tokyo olympics possibility travel amid strong insinuation game may cancelled due overwhelming increase spread covid within country occurs highly likely international tourism well could barred majority year due continued serious spread pandemic japan worldwide many user looking plan trip confirm trip feel prudent open discussion topic cancellation game could likely lead continued ban tourism outside asia calendar year article posted asahi shimbun explains cancelling olympics coming closer reality original article asahi ajw article section within article holding particular interest gt event wa postponed last year novel coronavirus pandemic spread scheduled start within day however virus situation ha since worsened tokyo metropolitan area prompting government jan declare monthlong state emergency capital three surrounding prefecture tokyo olympics could canceled state emergency lifted march official tokyo organizing committee said gt end march torch relay scheduled start fukushima prefecture around time government led panel expected decide whether restrict number spectator olympic game hosting game anything possible think people medical personnel suffering difficult life amid pandemic olympic related official said gt according bbc dick pound longest serving member international olympics committee ioc said could sure tokyo game would go ahead rescheduled certain ongoing elephant room would surge virus pound said according bbc term travel japan year international tourism stride made tracking testing tracing foreign entrant country many variable still managed order allow full scale entry seen year previous idea vaccination mandatory board rejected airline http japantoday category feature travel airport reject vaccine requirement amid travel debate bad business testing rule rolled various country canada http tc canada ca en initiative covid measure update guidance issued transport canada covid pre departure testing transport canada interim order go far help curb spread testing negative prior departure doe guarantee covid contracted transit arrival travel insurance coverage become necessary covid land hospital long period time recovering new variant discovered also already spread worldwide weakening effort curb infection locally many country may also complicate opening border travel tourism feel free discus topic within thread note heavily monitored curated keep discussion topic civil sidebar rule still apply amid specific note topic gt nobody know sure border reopen mod team becoming comfortable possibility may year hence discussion thread sake everyone please refrain asking anyone know open sure trip going happen know realistically tell degree certainty decide keep trip booked entirely choose cancel question please start airline work back gt next answer regard visa waiver non tourist entry megathread redirect subreddits helpful topic needed reddit r japantravel comment ko lv japan travel covid guideline travel question regarding topic removed redirected gt finally fine line persistent troll comment attempt goad user fight devolve name calling removed warned repeating behaviour met ban moderator discretion thank\n"
     ]
    }
   ],
   "source": [
    "#see if it works on japantravel\n",
    "print(clean_japan_posts[1])"
   ]
  },
  {
   "cell_type": "code",
   "execution_count": 19,
   "metadata": {},
   "outputs": [
    {
     "name": "stdout",
     "output_type": "stream",
     "text": [
      "using solo travel help combat depression thing got crazy past year wa avid traveler took whenever chance arose enjoy learning new culture like anyone else main driving factor behind wa keep mind bay high new place staying distracted managing thing abroad welcome hectic nature helped avoid getting trapped bad place dealt ocd depression anxiety general mood liability issue since high school worsened twenty traveling wa way escape temporarily since back home past year mental state ha gone toilet couple breakdown led unable work ruminating ha extreme realized wa using travel much crutch avoid looking proud many thing done past wa wa running away travel phenomenal privilege great reward found wa becoming much vice already healthy stable place travel really bring appreciation life new level like feel like always running important take long hard look thing every often miserable year ha ha forced face thing head\n"
     ]
    }
   ],
   "source": [
    "#see if it works on solotravel\n",
    "print(clean_solo_posts[1])"
   ]
  },
  {
   "cell_type": "code",
   "execution_count": 20,
   "metadata": {},
   "outputs": [],
   "source": [
    "#instantiate a vectorizer\n",
    "cvec = CountVectorizer()"
   ]
  },
  {
   "cell_type": "code",
   "execution_count": 21,
   "metadata": {},
   "outputs": [],
   "source": [
    "#fit to corpus\n",
    "japan_clean = cvec.fit_transform(clean_japan_posts)"
   ]
  },
  {
   "cell_type": "code",
   "execution_count": 22,
   "metadata": {},
   "outputs": [],
   "source": [
    "#create a dataframe\n",
    "japan_clean_df = pd.DataFrame(japan_clean.toarray(), \n",
    "                          columns = cvec.get_feature_names())\n"
   ]
  },
  {
   "cell_type": "code",
   "execution_count": 23,
   "metadata": {},
   "outputs": [
    {
     "data": {
      "text/plain": [
       "day           5151\n",
       "tokyo         3317\n",
       "wa            3020\n",
       "japan         2120\n",
       "trip          1909\n",
       "              ... \n",
       "military         1\n",
       "mill             1\n",
       "millennial       1\n",
       "miltary          1\n",
       "ljyamnt          1\n",
       "Length: 14658, dtype: int64"
      ]
     },
     "execution_count": 23,
     "metadata": {},
     "output_type": "execute_result"
    }
   ],
   "source": [
    "japan_clean_df.sum().sort_values(ascending=False)"
   ]
  },
  {
   "cell_type": "code",
   "execution_count": 24,
   "metadata": {},
   "outputs": [],
   "source": [
    "#fit to corpus\n",
    "solo_clean = cvec.fit_transform(clean_solo_posts)"
   ]
  },
  {
   "cell_type": "code",
   "execution_count": 25,
   "metadata": {},
   "outputs": [],
   "source": [
    "#create a dataframe\n",
    "solo_clean_df = pd.DataFrame(solo_clean.toarray(), \n",
    "                          columns = cvec.get_feature_names())"
   ]
  },
  {
   "cell_type": "code",
   "execution_count": 26,
   "metadata": {},
   "outputs": [
    {
     "data": {
      "text/plain": [
       "wa          1034\n",
       "travel       933\n",
       "trip         888\n",
       "day          833\n",
       "would        710\n",
       "            ... \n",
       "slumber        1\n",
       "slumming       1\n",
       "slump          1\n",
       "metaphor       1\n",
       "fasnacht       1\n",
       "Length: 9059, dtype: int64"
      ]
     },
     "execution_count": 26,
     "metadata": {},
     "output_type": "execute_result"
    }
   ],
   "source": [
    "solo_clean_df.sum().sort_values(ascending=False)"
   ]
  },
  {
   "cell_type": "code",
   "execution_count": 27,
   "metadata": {},
   "outputs": [
    {
     "data": {
      "image/png": "[encoded data removed]",
      "text/plain": [
       "<Figure size 1080x720 with 2 Axes>"
      ]
     },
     "metadata": {
      "needs_background": "light"
     },
     "output_type": "display_data"
    }
   ],
   "source": [
    "#top 20 unigram words\n",
    "japan_20 = japan_clean_df.sum().sort_values(ascending=False).head(20)\n",
    "solo_20 = solo_clean_df.sum().sort_values(ascending=False).head(20)\n",
    "\n",
    "fig, ax = plt.subplots(1, 2, figsize=(15,10), sharex = True)\n",
    "\n",
    "#r/JapanTravel\n",
    "sns.barplot(y=japan_20.index.values, x = japan_20, color='blue', ax=ax[0])\n",
    "ax[0].set_title(\"Top 20 Frequently Words in r/JapanTravel\", fontsize=16)\n",
    "ax[0].set_xlabel('count of words', fontsize=13)\n",
    "plt.setp(ax[0].get_yticklabels(), fontsize=14)\n",
    "\n",
    "#r/SoloTravel\n",
    "sns.barplot(y=solo_20.index.values, x = solo_20 ,color='red',ax=ax[1])\n",
    "ax[1].set_title(\"Top 20 Frequently Words in r/SoloTravel\",fontsize=16)\n",
    "ax[1].set_xlabel('count of words', fontsize=13)\n",
    "plt.setp(ax[1].get_yticklabels(), fontsize=14)\n",
    "\n",
    "plt.tight_layout()"
   ]
  },
  {
   "cell_type": "markdown",
   "metadata": {},
   "source": [
    "**JapanTravel**  \n",
    "Not surprisngly, words like 'tokyo', 'kyoto', 'japan' and 'osaka' are the amongst the most common as they directly refer to Japanese cities. Words like 'itineray', 'trip', 'day' and 'week' could suggest that the users in the subreddit suggested several itineray for trips to Japan. \n",
    "\n",
    "**SoloTravel**  \n",
    "Similary, words like 'solo', 'travel' and 'trip' are the most common in this subreddit, which is also unsurprising. 1 interesting aspect that came up would be words like 'advice', 'experience' or 'question' which could suggest that reddit users provide unique experiences of travelling alone rather than simply providing itinearies of the country. "
   ]
  },
  {
   "cell_type": "markdown",
   "metadata": {},
   "source": [
    "#### Bigram"
   ]
  },
  {
   "cell_type": "code",
   "execution_count": 28,
   "metadata": {},
   "outputs": [],
   "source": [
    "#instantiate a vectorizer\n",
    "cvec_2 = CountVectorizer(ngram_range = (2,2))"
   ]
  },
  {
   "cell_type": "code",
   "execution_count": 29,
   "metadata": {},
   "outputs": [],
   "source": [
    "#fit into corpus\n",
    "japan_clean_2 = cvec_2.fit_transform(clean_japan_posts)"
   ]
  },
  {
   "cell_type": "code",
   "execution_count": 30,
   "metadata": {},
   "outputs": [],
   "source": [
    "#create dataframe\n",
    "japan_clean2_df = pd.DataFrame(japan_clean_2.toarray(), \n",
    "                          columns = cvec_2.get_feature_names())"
   ]
  },
  {
   "cell_type": "code",
   "execution_count": 31,
   "metadata": {},
   "outputs": [
    {
     "data": {
      "text/plain": [
       "http imgur        516\n",
       "day trip          503\n",
       "day tokyo         290\n",
       "nhk jp            222\n",
       "en news           220\n",
       "                 ... \n",
       "past darkness       1\n",
       "past decided        1\n",
       "past direction      1\n",
       "past draft          1\n",
       "aa bbbd             1\n",
       "Length: 141393, dtype: int64"
      ]
     },
     "execution_count": 31,
     "metadata": {},
     "output_type": "execute_result"
    }
   ],
   "source": [
    "japan_clean2_df.sum().sort_values(ascending=False)"
   ]
  },
  {
   "cell_type": "code",
   "execution_count": 32,
   "metadata": {},
   "outputs": [],
   "source": [
    "#fit into corpus\n",
    "solo_clean_2 = cvec_2.fit_transform(clean_solo_posts)"
   ]
  },
  {
   "cell_type": "code",
   "execution_count": 33,
   "metadata": {},
   "outputs": [],
   "source": [
    "#create dataframe\n",
    "solo_clean2_df = pd.DataFrame(solo_clean_2.toarray(), \n",
    "                          columns = cvec_2.get_feature_names())"
   ]
  },
  {
   "cell_type": "code",
   "execution_count": 34,
   "metadata": {},
   "outputs": [
    {
     "data": {
      "text/plain": [
       "solo travel       143\n",
       "solo trip         102\n",
       "would like         83\n",
       "feel like          77\n",
       "first time         72\n",
       "                 ... \n",
       "popular south       1\n",
       "popular solo        1\n",
       "popular scared      1\n",
       "popular post        1\n",
       "aa doe              1\n",
       "Length: 65108, dtype: int64"
      ]
     },
     "execution_count": 34,
     "metadata": {},
     "output_type": "execute_result"
    }
   ],
   "source": [
    "solo_clean2_df.sum().sort_values(ascending=False)"
   ]
  },
  {
   "cell_type": "code",
   "execution_count": 35,
   "metadata": {},
   "outputs": [
    {
     "data": {
      "image/png": "[encoded data removed]",
      "text/plain": [
       "<Figure size 1080x720 with 2 Axes>"
      ]
     },
     "metadata": {
      "needs_background": "light"
     },
     "output_type": "display_data"
    }
   ],
   "source": [
    "japan2_20 = japan_clean2_df.sum().sort_values(ascending=False).head(20)\n",
    "solo2_20 = solo_clean2_df.sum().sort_values(ascending=False).head(20)\n",
    "\n",
    "fig, ax = plt.subplots(1, 2, figsize=(15,10), sharex = True)\n",
    "\n",
    "#r/JapanTravel\n",
    "sns.barplot(y=japan2_20.index.values, x = japan2_20, color='blue', ax=ax[0])\n",
    "ax[0].set_title(\"Top 20 Frequently Words in r/JapanTravel\", fontsize=16)\n",
    "ax[0].set_xlabel('count of words', fontsize=13)\n",
    "plt.setp(ax[0].get_yticklabels(), fontsize=14)\n",
    "\n",
    "#r/SoloTravel\n",
    "sns.barplot(y=solo2_20.index.values, x = solo2_20 ,color='red',ax=ax[1])\n",
    "ax[1].set_title(\"Top 20 Frequently Words in r/SoloTravel\",fontsize=16)\n",
    "ax[1].set_xlabel('count of words', fontsize=13)\n",
    "plt.setp(ax[1].get_yticklabels(), fontsize=14)\n",
    "\n",
    "plt.tight_layout()"
   ]
  },
  {
   "cell_type": "markdown",
   "metadata": {},
   "source": [
    "**JapanTravel**  \n",
    "Similar to the title, Japan specific words like \"tokyo\", \"osaka\" are Japanese cities that we would see under the JapanTravel subreddit. In addition \"co jp\", \"nhk jp\" are bigrams that suggest japanese specific links that reddit users might have included. They are links that directs users to Japan websites for ticket venue bookings. \n",
    "\n",
    "**SoloTravel**  \n",
    "Simlar to the above title as well, bigrams like \"would love\", \"anyone else\", \"feel like\" suggest that subreddit users posts experiences of solo travelling rather than the itineary or information of the country location itself. "
   ]
  },
  {
   "cell_type": "markdown",
   "metadata": {},
   "source": [
    "### Preprocessing\n",
    "\n",
    "Before we start to apply our models, we will include the cleaned posts performed above to the JapanTravel and SoloTravel datasets. We will then map categories of the subreddits to \"0\" and \"1\" which we can identify them. "
   ]
  },
  {
   "cell_type": "code",
   "execution_count": 36,
   "metadata": {},
   "outputs": [],
   "source": [
    "#add clean posts to both datasets\n",
    "japan_df['cleaned_posts'] = clean_japan_posts\n",
    "solo_df['cleaned_posts'] = clean_solo_posts"
   ]
  },
  {
   "cell_type": "code",
   "execution_count": 37,
   "metadata": {},
   "outputs": [
    {
     "name": "stdout",
     "output_type": "stream",
     "text": [
      "(980, 6)\n"
     ]
    },
    {
     "data": {
      "text/html": [
       "<div>\n",
       "<style scoped>\n",
       "    .dataframe tbody tr th:only-of-type {\n",
       "        vertical-align: middle;\n",
       "    }\n",
       "\n",
       "    .dataframe tbody tr th {\n",
       "        vertical-align: top;\n",
       "    }\n",
       "\n",
       "    .dataframe thead th {\n",
       "        text-align: right;\n",
       "    }\n",
       "</style>\n",
       "<table border=\"1\" class=\"dataframe\">\n",
       "  <thead>\n",
       "    <tr style=\"text-align: right;\">\n",
       "      <th></th>\n",
       "      <th>author</th>\n",
       "      <th>title</th>\n",
       "      <th>selftext</th>\n",
       "      <th>subreddit</th>\n",
       "      <th>posts</th>\n",
       "      <th>cleaned_posts</th>\n",
       "    </tr>\n",
       "  </thead>\n",
       "  <tbody>\n",
       "    <tr>\n",
       "      <th>0</th>\n",
       "      <td>amyranthlovely</td>\n",
       "      <td>Japan Travel, COVID-19, And You: Guidelines On...</td>\n",
       "      <td>##**January 2021 - [**Japan has again closed t...</td>\n",
       "      <td>JapanTravel</td>\n",
       "      <td>Japan Travel, COVID-19, And You: Guidelines On...</td>\n",
       "      <td>japan travel covid guideline travel amp pandem...</td>\n",
       "    </tr>\n",
       "    <tr>\n",
       "      <th>1</th>\n",
       "      <td>amyranthlovely</td>\n",
       "      <td>Discussion: Organizers Express Doubts About Ho...</td>\n",
       "      <td>[**Original Article Here.**](http://www.asahi....</td>\n",
       "      <td>JapanTravel</td>\n",
       "      <td>Discussion: Organizers Express Doubts About Ho...</td>\n",
       "      <td>discussion organizer express doubt hosting tok...</td>\n",
       "    </tr>\n",
       "    <tr>\n",
       "      <th>2</th>\n",
       "      <td>Shell_fly</td>\n",
       "      <td>Reflecting on last year’s (less than ordinary)...</td>\n",
       "      <td>Like many here, I am desperately wishing I cou...</td>\n",
       "      <td>JapanTravel</td>\n",
       "      <td>Reflecting on last year’s (less than ordinary)...</td>\n",
       "      <td>reflecting last year le ordinary trip japan li...</td>\n",
       "    </tr>\n",
       "    <tr>\n",
       "      <th>3</th>\n",
       "      <td>somyotdisodomcia</td>\n",
       "      <td>Name of soba restaurant in Arima</td>\n",
       "      <td>Hello!\\n\\nIn 2016, on a day trip from Osaka, I...</td>\n",
       "      <td>JapanTravel</td>\n",
       "      <td>Name of soba restaurant in Arima Hello!\\n\\nIn ...</td>\n",
       "      <td>name soba restaurant arima hello day trip osak...</td>\n",
       "    </tr>\n",
       "    <tr>\n",
       "      <th>4</th>\n",
       "      <td>namaehanandesuka</td>\n",
       "      <td>Hyogo in March (focus on nature)</td>\n",
       "      <td>I will be traveling with my husband and 2 smal...</td>\n",
       "      <td>JapanTravel</td>\n",
       "      <td>Hyogo in March (focus on nature) I will be tra...</td>\n",
       "      <td>hyogo march focus nature traveling husband sma...</td>\n",
       "    </tr>\n",
       "  </tbody>\n",
       "</table>\n",
       "</div>"
      ],
      "text/plain": [
       "             author                                              title  \\\n",
       "0    amyranthlovely  Japan Travel, COVID-19, And You: Guidelines On...   \n",
       "1    amyranthlovely  Discussion: Organizers Express Doubts About Ho...   \n",
       "2         Shell_fly  Reflecting on last year’s (less than ordinary)...   \n",
       "3  somyotdisodomcia                   Name of soba restaurant in Arima   \n",
       "4  namaehanandesuka                   Hyogo in March (focus on nature)   \n",
       "\n",
       "                                            selftext    subreddit  \\\n",
       "0  ##**January 2021 - [**Japan has again closed t...  JapanTravel   \n",
       "1  [**Original Article Here.**](http://www.asahi....  JapanTravel   \n",
       "2  Like many here, I am desperately wishing I cou...  JapanTravel   \n",
       "3  Hello!\\n\\nIn 2016, on a day trip from Osaka, I...  JapanTravel   \n",
       "4  I will be traveling with my husband and 2 smal...  JapanTravel   \n",
       "\n",
       "                                               posts  \\\n",
       "0  Japan Travel, COVID-19, And You: Guidelines On...   \n",
       "1  Discussion: Organizers Express Doubts About Ho...   \n",
       "2  Reflecting on last year’s (less than ordinary)...   \n",
       "3  Name of soba restaurant in Arima Hello!\\n\\nIn ...   \n",
       "4  Hyogo in March (focus on nature) I will be tra...   \n",
       "\n",
       "                                       cleaned_posts  \n",
       "0  japan travel covid guideline travel amp pandem...  \n",
       "1  discussion organizer express doubt hosting tok...  \n",
       "2  reflecting last year le ordinary trip japan li...  \n",
       "3  name soba restaurant arima hello day trip osak...  \n",
       "4  hyogo march focus nature traveling husband sma...  "
      ]
     },
     "execution_count": 37,
     "metadata": {},
     "output_type": "execute_result"
    }
   ],
   "source": [
    "print(japan_df.shape)\n",
    "japan_df.head()"
   ]
  },
  {
   "cell_type": "code",
   "execution_count": 38,
   "metadata": {},
   "outputs": [
    {
     "name": "stdout",
     "output_type": "stream",
     "text": [
      "(892, 6)\n"
     ]
    },
    {
     "data": {
      "text/html": [
       "<div>\n",
       "<style scoped>\n",
       "    .dataframe tbody tr th:only-of-type {\n",
       "        vertical-align: middle;\n",
       "    }\n",
       "\n",
       "    .dataframe tbody tr th {\n",
       "        vertical-align: top;\n",
       "    }\n",
       "\n",
       "    .dataframe thead th {\n",
       "        text-align: right;\n",
       "    }\n",
       "</style>\n",
       "<table border=\"1\" class=\"dataframe\">\n",
       "  <thead>\n",
       "    <tr style=\"text-align: right;\">\n",
       "      <th></th>\n",
       "      <th>author</th>\n",
       "      <th>title</th>\n",
       "      <th>selftext</th>\n",
       "      <th>subreddit</th>\n",
       "      <th>posts</th>\n",
       "      <th>cleaned_posts</th>\n",
       "    </tr>\n",
       "  </thead>\n",
       "  <tbody>\n",
       "    <tr>\n",
       "      <th>0</th>\n",
       "      <td>lostkarma4anonymity</td>\n",
       "      <td>Travel is the ultimate game</td>\n",
       "      <td>I recently realized that part of the reason I ...</td>\n",
       "      <td>solotravel</td>\n",
       "      <td>Travel is the ultimate game I recently realize...</td>\n",
       "      <td>travel ultimate game recently realized part re...</td>\n",
       "    </tr>\n",
       "    <tr>\n",
       "      <th>1</th>\n",
       "      <td>Ihatemygoddamnguts</td>\n",
       "      <td>Using solo travel to help combat depression</td>\n",
       "      <td>Before things got crazy this past year, I was ...</td>\n",
       "      <td>solotravel</td>\n",
       "      <td>Using solo travel to help combat depression Be...</td>\n",
       "      <td>using solo travel help combat depression thing...</td>\n",
       "    </tr>\n",
       "    <tr>\n",
       "      <th>2</th>\n",
       "      <td>TheEntertainer17</td>\n",
       "      <td>Can small dogs handle big hikes? Tips apprecia...</td>\n",
       "      <td>I'm going to be road tripping across the US fo...</td>\n",
       "      <td>solotravel</td>\n",
       "      <td>Can small dogs handle big hikes? Tips apprecia...</td>\n",
       "      <td>small dog handle big hike tip appreciated goin...</td>\n",
       "    </tr>\n",
       "    <tr>\n",
       "      <th>3</th>\n",
       "      <td>redwithblackspots527</td>\n",
       "      <td>Opinions of rentberry.com?</td>\n",
       "      <td>This website meets my needs so perfectly im wo...</td>\n",
       "      <td>solotravel</td>\n",
       "      <td>Opinions of rentberry.com? This website meets ...</td>\n",
       "      <td>opinion rentberry website meet need perfectly ...</td>\n",
       "    </tr>\n",
       "    <tr>\n",
       "      <th>4</th>\n",
       "      <td>wonderfullywell</td>\n",
       "      <td>Does anyone here have experience traveling wit...</td>\n",
       "      <td>Hey guys.\\n\\nI'm going to be traveling to Sout...</td>\n",
       "      <td>solotravel</td>\n",
       "      <td>Does anyone here have experience traveling wit...</td>\n",
       "      <td>doe anyone experience traveling tent hey guy g...</td>\n",
       "    </tr>\n",
       "  </tbody>\n",
       "</table>\n",
       "</div>"
      ],
      "text/plain": [
       "                 author                                              title  \\\n",
       "0   lostkarma4anonymity                        Travel is the ultimate game   \n",
       "1    Ihatemygoddamnguts        Using solo travel to help combat depression   \n",
       "2      TheEntertainer17  Can small dogs handle big hikes? Tips apprecia...   \n",
       "3  redwithblackspots527                         Opinions of rentberry.com?   \n",
       "4       wonderfullywell  Does anyone here have experience traveling wit...   \n",
       "\n",
       "                                            selftext   subreddit  \\\n",
       "0  I recently realized that part of the reason I ...  solotravel   \n",
       "1  Before things got crazy this past year, I was ...  solotravel   \n",
       "2  I'm going to be road tripping across the US fo...  solotravel   \n",
       "3  This website meets my needs so perfectly im wo...  solotravel   \n",
       "4  Hey guys.\\n\\nI'm going to be traveling to Sout...  solotravel   \n",
       "\n",
       "                                               posts  \\\n",
       "0  Travel is the ultimate game I recently realize...   \n",
       "1  Using solo travel to help combat depression Be...   \n",
       "2  Can small dogs handle big hikes? Tips apprecia...   \n",
       "3  Opinions of rentberry.com? This website meets ...   \n",
       "4  Does anyone here have experience traveling wit...   \n",
       "\n",
       "                                       cleaned_posts  \n",
       "0  travel ultimate game recently realized part re...  \n",
       "1  using solo travel help combat depression thing...  \n",
       "2  small dog handle big hike tip appreciated goin...  \n",
       "3  opinion rentberry website meet need perfectly ...  \n",
       "4  doe anyone experience traveling tent hey guy g...  "
      ]
     },
     "execution_count": 38,
     "metadata": {},
     "output_type": "execute_result"
    }
   ],
   "source": [
    "print(solo_df.shape)\n",
    "solo_df.head()"
   ]
  },
  {
   "cell_type": "code",
   "execution_count": 39,
   "metadata": {},
   "outputs": [
    {
     "data": {
      "text/plain": [
       "(1872, 6)"
      ]
     },
     "execution_count": 39,
     "metadata": {},
     "output_type": "execute_result"
    }
   ],
   "source": [
    "#merge the 2 subreddit dataframes together\n",
    "subreddits_df = pd.concat([japan_df, solo_df])\n",
    "subreddits_df.shape"
   ]
  },
  {
   "cell_type": "code",
   "execution_count": 40,
   "metadata": {},
   "outputs": [
    {
     "data": {
      "text/html": [
       "<div>\n",
       "<style scoped>\n",
       "    .dataframe tbody tr th:only-of-type {\n",
       "        vertical-align: middle;\n",
       "    }\n",
       "\n",
       "    .dataframe tbody tr th {\n",
       "        vertical-align: top;\n",
       "    }\n",
       "\n",
       "    .dataframe thead th {\n",
       "        text-align: right;\n",
       "    }\n",
       "</style>\n",
       "<table border=\"1\" class=\"dataframe\">\n",
       "  <thead>\n",
       "    <tr style=\"text-align: right;\">\n",
       "      <th></th>\n",
       "      <th>author</th>\n",
       "      <th>title</th>\n",
       "      <th>selftext</th>\n",
       "      <th>subreddit</th>\n",
       "      <th>posts</th>\n",
       "      <th>cleaned_posts</th>\n",
       "    </tr>\n",
       "  </thead>\n",
       "  <tbody>\n",
       "    <tr>\n",
       "      <th>0</th>\n",
       "      <td>amyranthlovely</td>\n",
       "      <td>Japan Travel, COVID-19, And You: Guidelines On...</td>\n",
       "      <td>##**January 2021 - [**Japan has again closed t...</td>\n",
       "      <td>JapanTravel</td>\n",
       "      <td>Japan Travel, COVID-19, And You: Guidelines On...</td>\n",
       "      <td>japan travel covid guideline travel amp pandem...</td>\n",
       "    </tr>\n",
       "    <tr>\n",
       "      <th>1</th>\n",
       "      <td>amyranthlovely</td>\n",
       "      <td>Discussion: Organizers Express Doubts About Ho...</td>\n",
       "      <td>[**Original Article Here.**](http://www.asahi....</td>\n",
       "      <td>JapanTravel</td>\n",
       "      <td>Discussion: Organizers Express Doubts About Ho...</td>\n",
       "      <td>discussion organizer express doubt hosting tok...</td>\n",
       "    </tr>\n",
       "    <tr>\n",
       "      <th>2</th>\n",
       "      <td>Shell_fly</td>\n",
       "      <td>Reflecting on last year’s (less than ordinary)...</td>\n",
       "      <td>Like many here, I am desperately wishing I cou...</td>\n",
       "      <td>JapanTravel</td>\n",
       "      <td>Reflecting on last year’s (less than ordinary)...</td>\n",
       "      <td>reflecting last year le ordinary trip japan li...</td>\n",
       "    </tr>\n",
       "    <tr>\n",
       "      <th>3</th>\n",
       "      <td>somyotdisodomcia</td>\n",
       "      <td>Name of soba restaurant in Arima</td>\n",
       "      <td>Hello!\\n\\nIn 2016, on a day trip from Osaka, I...</td>\n",
       "      <td>JapanTravel</td>\n",
       "      <td>Name of soba restaurant in Arima Hello!\\n\\nIn ...</td>\n",
       "      <td>name soba restaurant arima hello day trip osak...</td>\n",
       "    </tr>\n",
       "    <tr>\n",
       "      <th>4</th>\n",
       "      <td>namaehanandesuka</td>\n",
       "      <td>Hyogo in March (focus on nature)</td>\n",
       "      <td>I will be traveling with my husband and 2 smal...</td>\n",
       "      <td>JapanTravel</td>\n",
       "      <td>Hyogo in March (focus on nature) I will be tra...</td>\n",
       "      <td>hyogo march focus nature traveling husband sma...</td>\n",
       "    </tr>\n",
       "  </tbody>\n",
       "</table>\n",
       "</div>"
      ],
      "text/plain": [
       "             author                                              title  \\\n",
       "0    amyranthlovely  Japan Travel, COVID-19, And You: Guidelines On...   \n",
       "1    amyranthlovely  Discussion: Organizers Express Doubts About Ho...   \n",
       "2         Shell_fly  Reflecting on last year’s (less than ordinary)...   \n",
       "3  somyotdisodomcia                   Name of soba restaurant in Arima   \n",
       "4  namaehanandesuka                   Hyogo in March (focus on nature)   \n",
       "\n",
       "                                            selftext    subreddit  \\\n",
       "0  ##**January 2021 - [**Japan has again closed t...  JapanTravel   \n",
       "1  [**Original Article Here.**](http://www.asahi....  JapanTravel   \n",
       "2  Like many here, I am desperately wishing I cou...  JapanTravel   \n",
       "3  Hello!\\n\\nIn 2016, on a day trip from Osaka, I...  JapanTravel   \n",
       "4  I will be traveling with my husband and 2 smal...  JapanTravel   \n",
       "\n",
       "                                               posts  \\\n",
       "0  Japan Travel, COVID-19, And You: Guidelines On...   \n",
       "1  Discussion: Organizers Express Doubts About Ho...   \n",
       "2  Reflecting on last year’s (less than ordinary)...   \n",
       "3  Name of soba restaurant in Arima Hello!\\n\\nIn ...   \n",
       "4  Hyogo in March (focus on nature) I will be tra...   \n",
       "\n",
       "                                       cleaned_posts  \n",
       "0  japan travel covid guideline travel amp pandem...  \n",
       "1  discussion organizer express doubt hosting tok...  \n",
       "2  reflecting last year le ordinary trip japan li...  \n",
       "3  name soba restaurant arima hello day trip osak...  \n",
       "4  hyogo march focus nature traveling husband sma...  "
      ]
     },
     "execution_count": 40,
     "metadata": {},
     "output_type": "execute_result"
    }
   ],
   "source": [
    "subreddits_df.head()"
   ]
  },
  {
   "cell_type": "code",
   "execution_count": 41,
   "metadata": {},
   "outputs": [
    {
     "data": {
      "text/plain": [
       "0    980\n",
       "1    892\n",
       "Name: label, dtype: int64"
      ]
     },
     "execution_count": 41,
     "metadata": {},
     "output_type": "execute_result"
    }
   ],
   "source": [
    "#map subreddit to either '0' or '1'\n",
    "subreddits_df['label'] = subreddits_df['subreddit'].map({'JapanTravel':0, 'solotravel':1})\n",
    "subreddits_df['label'].value_counts()"
   ]
  },
  {
   "cell_type": "markdown",
   "metadata": {},
   "source": [
    "### Baseline\n",
    "\n",
    "We will use the accuracy score based on the majority class of either JapanTravel or SoloTravel subreddits. This will form the benchmark for all our classification models to better"
   ]
  },
  {
   "cell_type": "code",
   "execution_count": 42,
   "metadata": {},
   "outputs": [
    {
     "data": {
      "text/plain": [
       "0    0.523504\n",
       "1    0.476496\n",
       "Name: label, dtype: float64"
      ]
     },
     "execution_count": 42,
     "metadata": {},
     "output_type": "execute_result"
    }
   ],
   "source": [
    "subreddits_df['label'].value_counts(normalize = True)"
   ]
  },
  {
   "cell_type": "markdown",
   "metadata": {},
   "source": [
    "The baseline accuracy is interpreted as if we predict 0 for all posts, we would be right at least 52% of the time.\n",
    "\n",
    "Our models will need to perform better than 52%"
   ]
  },
  {
   "cell_type": "markdown",
   "metadata": {},
   "source": [
    "### Modelling\n",
    "\n",
    "Here we will compare 2 models and run 2 will run 2 vectorizers: CountVectorizer and Term Frequency-Inverse Document Frequency (TF-IDF) vectorizer on each model.\n",
    "\n",
    "* CountVectoriser simplty returns the number of times a word appears.  \n",
    "* A TF-IDF score tells us which words are most discriminating between documents. Words that occur often in one document but don't occur in many documents contain a great deal of discriminating power. In other words:\n",
    " * Common words are penalized.\n",
    " * Rare words have more influence."
   ]
  },
  {
   "cell_type": "markdown",
   "metadata": {},
   "source": [
    "##### Create X features and target y"
   ]
  },
  {
   "cell_type": "code",
   "execution_count": 43,
   "metadata": {},
   "outputs": [],
   "source": [
    "X = subreddits_df['cleaned_posts']\n",
    "y = subreddits_df['label']"
   ]
  },
  {
   "cell_type": "markdown",
   "metadata": {},
   "source": [
    "##### Train Test Split"
   ]
  },
  {
   "cell_type": "code",
   "execution_count": 44,
   "metadata": {},
   "outputs": [],
   "source": [
    "X_train, X_test, y_train, y_test = train_test_split(X,\n",
    "                                                    y,\n",
    "                                                    test_size=0.25,\n",
    "                                                    stratify=y,\n",
    "                                                    random_state=42)"
   ]
  },
  {
   "cell_type": "markdown",
   "metadata": {},
   "source": [
    "##### LogisticRegression Model\n",
    "\n",
    "Logistic regression is one of the most common binary classification algorithm. Logistic regression models describe the relationship between our target variable which is a gbinary outcome, with each feature."
   ]
  },
  {
   "cell_type": "markdown",
   "metadata": {},
   "source": [
    "##### Logistic Regression (with CountVectorizer)"
   ]
  },
  {
   "cell_type": "code",
   "execution_count": 45,
   "metadata": {},
   "outputs": [],
   "source": [
    "#create pipeline\n",
    "pipe = Pipeline([\n",
    "    (\"cvec\", CountVectorizer()),\n",
    "    (\"lr\", LogisticRegression())\n",
    "    ])"
   ]
  },
  {
   "cell_type": "code",
   "execution_count": 46,
   "metadata": {},
   "outputs": [
    {
     "name": "stdout",
     "output_type": "stream",
     "text": [
      "0.9522792022792023\n"
     ]
    },
    {
     "data": {
      "text/plain": [
       "{'cvec__max_df': 0.8,\n",
       " 'cvec__max_features': 3500,\n",
       " 'cvec__min_df': 3,\n",
       " 'cvec__ngram_range': (1, 2)}"
      ]
     },
     "execution_count": 46,
     "metadata": {},
     "output_type": "execute_result"
    }
   ],
   "source": [
    "pipe_params = {\n",
    "    'cvec__max_features': [3500, 4000, 4500],\n",
    "    'cvec__min_df': [2, 3],\n",
    "    'cvec__max_df': [0.8, 0.85, 0.9],\n",
    "    'cvec__ngram_range': [(1,1), (1,2)]\n",
    "}\n",
    "gs = GridSearchCV(pipe, param_grid=pipe_params, cv=3)\n",
    "gs.fit(X_train, y_train)\n",
    "print(gs.best_score_)\n",
    "gs.best_params_"
   ]
  },
  {
   "cell_type": "code",
   "execution_count": 47,
   "metadata": {
    "scrolled": true
   },
   "outputs": [
    {
     "name": "stdout",
     "output_type": "stream",
     "text": [
      "1.0\n",
      "0.9444444444444444\n"
     ]
    }
   ],
   "source": [
    "print(gs.score(X_train, y_train))\n",
    "print(gs.score(X_test, y_test))"
   ]
  },
  {
   "cell_type": "markdown",
   "metadata": {},
   "source": [
    "##### Confusion Matrix"
   ]
  },
  {
   "cell_type": "code",
   "execution_count": 48,
   "metadata": {},
   "outputs": [],
   "source": [
    "preds = gs.predict(X_test)"
   ]
  },
  {
   "cell_type": "code",
   "execution_count": 49,
   "metadata": {},
   "outputs": [
    {
     "name": "stdout",
     "output_type": "stream",
     "text": [
      "True Negatives: 230\n",
      "False Positives: 15\n",
      "False Negatives: 11\n",
      "True Positives: 212\n"
     ]
    }
   ],
   "source": [
    "tn, fp, fn, tp = confusion_matrix(y_test, preds).ravel()\n",
    "print(\"True Negatives: %s\" % tn)\n",
    "print(\"False Positives: %s\" % fp)\n",
    "print(\"False Negatives: %s\" % fn)\n",
    "print(\"True Positives: %s\" % tp)"
   ]
  },
  {
   "cell_type": "markdown",
   "metadata": {},
   "source": [
    "##### Logistic Regression (with TFIDF Vectorizer)"
   ]
  },
  {
   "cell_type": "code",
   "execution_count": 50,
   "metadata": {},
   "outputs": [],
   "source": [
    "pipe2 = Pipeline([\n",
    "    (\"tvec\", TfidfVectorizer()),\n",
    "    (\"lr\", LogisticRegression())\n",
    "    ])"
   ]
  },
  {
   "cell_type": "code",
   "execution_count": 51,
   "metadata": {},
   "outputs": [
    {
     "name": "stdout",
     "output_type": "stream",
     "text": [
      "0.9544178952719878\n"
     ]
    },
    {
     "data": {
      "text/plain": [
       "{'tvec__max_df': 0.5, 'tvec__max_features': 3000, 'tvec__ngram_range': (1, 2)}"
      ]
     },
     "execution_count": 51,
     "metadata": {},
     "output_type": "execute_result"
    }
   ],
   "source": [
    "pipe_params_tvec = {\n",
    "    'tvec__max_features': [2500, 3000, 3500],\n",
    "    'tvec__max_df': [0.3, 0.5, 0.7],\n",
    "    'tvec__ngram_range': [(1,1), (1,2)],\n",
    "}\n",
    "gs_tvec = GridSearchCV(pipe2, param_grid=pipe_params_tvec, cv=5, n_jobs = -1)\n",
    "gs_tvec.fit(X_train, y_train)\n",
    "print(gs_tvec.best_score_)\n",
    "gs_tvec.best_params_"
   ]
  },
  {
   "cell_type": "code",
   "execution_count": 52,
   "metadata": {},
   "outputs": [
    {
     "name": "stdout",
     "output_type": "stream",
     "text": [
      "0.9850427350427351\n",
      "0.9572649572649573\n"
     ]
    }
   ],
   "source": [
    "print(gs_tvec.score(X_train, y_train))\n",
    "print(gs_tvec.score(X_test, y_test))"
   ]
  },
  {
   "cell_type": "markdown",
   "metadata": {},
   "source": [
    "##### Confusion Matrix"
   ]
  },
  {
   "cell_type": "code",
   "execution_count": 53,
   "metadata": {},
   "outputs": [],
   "source": [
    "preds_tvec = gs_tvec.predict(X_test)"
   ]
  },
  {
   "cell_type": "code",
   "execution_count": 54,
   "metadata": {},
   "outputs": [
    {
     "name": "stdout",
     "output_type": "stream",
     "text": [
      "True Negatives: 234\n",
      "False Positives: 11\n",
      "False Negatives: 9\n",
      "True Positives: 214\n"
     ]
    }
   ],
   "source": [
    "tn, fp, fn, tp = confusion_matrix(y_test, preds_tvec).ravel()\n",
    "print(\"True Negatives: %s\" % tn)\n",
    "print(\"False Positives: %s\" % fp)\n",
    "print(\"False Negatives: %s\" % fn)\n",
    "print(\"True Positives: %s\" % tp)"
   ]
  },
  {
   "cell_type": "markdown",
   "metadata": {},
   "source": [
    "##### Naive Bayes Model (Multinomial)\n",
    "\n",
    "Naive Bayes modelling is a classification technique based on Bayes’ Theorem with an assumption of independence among predictors. In simple terms, a Naive Bayes classifier assumes that the presence of a particular feature in a class is unrelated to the presence of any other feature.\n",
    "\n",
    "In this case we choose the the MultiNomial Naive Bayes as:\n",
    "* The columns of X are all integer counts, so MultinomialNB is the best choice here."
   ]
  },
  {
   "cell_type": "markdown",
   "metadata": {},
   "source": [
    "#####  Multinomial Naive Bayes (with CountVectorizer)"
   ]
  },
  {
   "cell_type": "code",
   "execution_count": 55,
   "metadata": {},
   "outputs": [],
   "source": [
    "pipe3 = Pipeline([\n",
    "    (\"cvec\", CountVectorizer()),\n",
    "    (\"nb\", MultinomialNB())\n",
    "    ])"
   ]
  },
  {
   "cell_type": "code",
   "execution_count": 56,
   "metadata": {},
   "outputs": [],
   "source": [
    "pipe_3_params = {\n",
    "    'cvec__max_features': [1000, 1500, 2000],\n",
    "    'cvec__min_df': [2, 3],\n",
    "    'cvec__max_df': [0.75, 0.8, 0.85],\n",
    "    'cvec__ngram_range': [(1,1), (1,2)],\n",
    "}"
   ]
  },
  {
   "cell_type": "code",
   "execution_count": 57,
   "metadata": {},
   "outputs": [
    {
     "name": "stdout",
     "output_type": "stream",
     "text": [
      "0.9074046771733604\n"
     ]
    },
    {
     "data": {
      "text/plain": [
       "{'cvec__max_df': 0.75,\n",
       " 'cvec__max_features': 2000,\n",
       " 'cvec__min_df': 2,\n",
       " 'cvec__ngram_range': (1, 1)}"
      ]
     },
     "execution_count": 57,
     "metadata": {},
     "output_type": "execute_result"
    }
   ],
   "source": [
    "gs_nb = GridSearchCV(pipe3, param_grid=pipe_3_params, cv=5, n_jobs = -1)\n",
    "gs_nb.fit(X_train, y_train)\n",
    "print(gs_nb.best_score_)\n",
    "gs_nb.best_params_"
   ]
  },
  {
   "cell_type": "code",
   "execution_count": 58,
   "metadata": {},
   "outputs": [
    {
     "name": "stdout",
     "output_type": "stream",
     "text": [
      "0.9202279202279202\n",
      "0.9123931623931624\n"
     ]
    }
   ],
   "source": [
    "print(gs_nb.score(X_train, y_train))\n",
    "print(gs_nb.score(X_test, y_test))"
   ]
  },
  {
   "cell_type": "markdown",
   "metadata": {},
   "source": [
    "##### Confusion Matrix"
   ]
  },
  {
   "cell_type": "code",
   "execution_count": 59,
   "metadata": {},
   "outputs": [],
   "source": [
    "preds_nb = gs_nb.predict(X_test)"
   ]
  },
  {
   "cell_type": "code",
   "execution_count": 60,
   "metadata": {},
   "outputs": [
    {
     "name": "stdout",
     "output_type": "stream",
     "text": [
      "True Negatives: 209\n",
      "False Positives: 36\n",
      "False Negatives: 5\n",
      "True Positives: 218\n"
     ]
    }
   ],
   "source": [
    "tn, fp, fn, tp = confusion_matrix(y_test, preds_nb).ravel()\n",
    "print(\"True Negatives: %s\" % tn)\n",
    "print(\"False Positives: %s\" % fp)\n",
    "print(\"False Negatives: %s\" % fn)\n",
    "print(\"True Positives: %s\" % tp)"
   ]
  },
  {
   "cell_type": "markdown",
   "metadata": {},
   "source": [
    "#####  Multinomial Naive Bayes (with TFIDF Vectorizer)"
   ]
  },
  {
   "cell_type": "code",
   "execution_count": 61,
   "metadata": {},
   "outputs": [],
   "source": [
    "pipe4 = Pipeline([\n",
    "    (\"tvec\", TfidfVectorizer()),\n",
    "    (\"nb\", MultinomialNB())\n",
    "    ])"
   ]
  },
  {
   "cell_type": "code",
   "execution_count": 62,
   "metadata": {},
   "outputs": [
    {
     "name": "stdout",
     "output_type": "stream",
     "text": [
      "0.9387544483985766\n"
     ]
    },
    {
     "data": {
      "text/plain": [
       "{'tvec__max_df': 0.7, 'tvec__max_features': 3500, 'tvec__ngram_range': (1, 1)}"
      ]
     },
     "execution_count": 62,
     "metadata": {},
     "output_type": "execute_result"
    }
   ],
   "source": [
    "pipe_params_nbtvec = {\n",
    "    'tvec__max_features': [2500, 3000, 3500],\n",
    "    'tvec__max_df': [0.3, 0.5, 0.7],\n",
    "    'tvec__ngram_range': [(1,1), (1,2)],\n",
    "}\n",
    "gs_nbtvec = GridSearchCV(pipe4, param_grid=pipe_params_nbtvec, cv=5, n_jobs = -1)\n",
    "gs_nbtvec.fit(X_train, y_train)\n",
    "print(gs_nbtvec.best_score_)\n",
    "gs_nbtvec.best_params_"
   ]
  },
  {
   "cell_type": "code",
   "execution_count": 63,
   "metadata": {},
   "outputs": [
    {
     "name": "stdout",
     "output_type": "stream",
     "text": [
      "0.9693732193732194\n",
      "0.9358974358974359\n"
     ]
    }
   ],
   "source": [
    "print(gs_nbtvec.score(X_train, y_train))\n",
    "print(gs_nbtvec.score(X_test, y_test))"
   ]
  },
  {
   "cell_type": "markdown",
   "metadata": {},
   "source": [
    "##### Confusion Matrix"
   ]
  },
  {
   "cell_type": "code",
   "execution_count": 64,
   "metadata": {},
   "outputs": [],
   "source": [
    "preds_nbtvec = gs_nbtvec.predict(X_test)"
   ]
  },
  {
   "cell_type": "code",
   "execution_count": 65,
   "metadata": {},
   "outputs": [
    {
     "name": "stdout",
     "output_type": "stream",
     "text": [
      "True Negatives: 224\n",
      "False Positives: 21\n",
      "False Negatives: 9\n",
      "True Positives: 214\n"
     ]
    }
   ],
   "source": [
    "tn, fp, fn, tp = confusion_matrix(y_test, preds_nbtvec).ravel()\n",
    "print(\"True Negatives: %s\" % tn)\n",
    "print(\"False Positives: %s\" % fp)\n",
    "print(\"False Negatives: %s\" % fn)\n",
    "print(\"True Positives: %s\" % tp)"
   ]
  },
  {
   "cell_type": "markdown",
   "metadata": {},
   "source": [
    "##### Model Selection\n",
    "\n",
    "Based on the model scores we have obtained, we will evaluate which is the best model for our us."
   ]
  },
  {
   "cell_type": "code",
   "execution_count": 66,
   "metadata": {},
   "outputs": [
    {
     "name": "stdout",
     "output_type": "stream",
     "text": [
      "Logistic Regression with CountVectorizer: 0.9522792022792023\n",
      "Logistic Regression with TFIDF Vectorizer: 0.9544178952719878\n",
      "Multinomial NB with CountVectorizer: 0.9074046771733604\n",
      "Multinomial NB with TFIDF Vectorizer: 0.9387544483985766\n"
     ]
    }
   ],
   "source": [
    "print(f\"Logistic Regression with CountVectorizer: {gs.best_score_}\")\n",
    "print(f\"Logistic Regression with TFIDF Vectorizer: {gs_tvec.best_score_}\")\n",
    "print(f\"Multinomial NB with CountVectorizer: {gs_nb.best_score_}\")\n",
    "print(f\"Multinomial NB with TFIDF Vectorizer: {gs_nbtvec.best_score_}\")"
   ]
  },
  {
   "cell_type": "markdown",
   "metadata": {},
   "source": [
    "| Model                                     | Best Score | Training Accuracy Score | Testing Accuracy Score | Wrongly Classified |\n",
    "|:-------------------------------------------|:------------|:-------------------------|:------------------------|:--------------------|\n",
    "| Logistic Regression with CountVectorizer  | 0.9522     | 1.0                     | 0.944                  | 26                 |\n",
    "| Logistic Regression with TFIDF Vectorizer | 0.9544     | 0.985                   | 0.957                  | 20                 |\n",
    "| Multinomial NB with CountVectorizer       | 0.9074     | 0.920                   | 0.912                  | 41                 |\n",
    "| Multinomial NB with TFIDF Vectorizer      | 0.9387      | 0.969                   | 0.935                  | 30                 |"
   ]
  },
  {
   "cell_type": "markdown",
   "metadata": {},
   "source": [
    "* Fundamentally, all our models were able to perform better than the baseline accuracy. This could be due to the specificity of Japanese terms that could distinguish the 2 posts.    \n",
    "\n",
    "* In terms of model score, **Logistic Regression with TFIDF Vectorizer** seems to perform the best amongst the 4 models than we ran. It has the highest accuracy score with the lowest error of wrongly classified posts. Hence we will choose this model.  \n",
    "\n",
    "* Overall it gives us a good balance of the bias variance tradeoff as Logistic Regression with CountVectorizer is largely overfitted."
   ]
  },
  {
   "cell_type": "markdown",
   "metadata": {},
   "source": [
    "##### Model Test Data"
   ]
  },
  {
   "cell_type": "code",
   "execution_count": 67,
   "metadata": {},
   "outputs": [],
   "source": [
    "#instantiate vectorizer\n",
    "opti_tvec = TfidfVectorizer(max_df = 0.5, max_features = 3000, ngram_range=(1,2))"
   ]
  },
  {
   "cell_type": "code",
   "execution_count": 68,
   "metadata": {},
   "outputs": [],
   "source": [
    "# Fit our tvec on the training data and transform training data.\n",
    "X_train_tvec = pd.DataFrame(opti_tvec.fit_transform(X_train).todense(),\n",
    "                          columns = opti_tvec.get_feature_names())"
   ]
  },
  {
   "cell_type": "code",
   "execution_count": 69,
   "metadata": {},
   "outputs": [],
   "source": [
    "# Transform our testing data with the already-fit tvec.\n",
    "X_test_tvec = pd.DataFrame(opti_tvec.transform(X_test).todense(),\n",
    "                         columns = opti_tvec.get_feature_names())"
   ]
  },
  {
   "cell_type": "code",
   "execution_count": 70,
   "metadata": {},
   "outputs": [],
   "source": [
    "# Instantiate our model\n",
    "nb = MultinomialNB()\n",
    "\n",
    "# Fit our model\n",
    "model = nb.fit(X_train_tvec,y_train)"
   ]
  },
  {
   "cell_type": "code",
   "execution_count": 71,
   "metadata": {},
   "outputs": [
    {
     "name": "stdout",
     "output_type": "stream",
     "text": [
      "0.9529914529914529\n"
     ]
    },
    {
     "data": {
      "text/plain": [
       "0.9188034188034188"
      ]
     },
     "execution_count": 71,
     "metadata": {},
     "output_type": "execute_result"
    }
   ],
   "source": [
    "print(model.score(X_train_tvec,y_train))\n",
    "model.score(X_test_tvec,y_test)"
   ]
  },
  {
   "cell_type": "markdown",
   "metadata": {},
   "source": [
    "##### Analysis of Coefficients"
   ]
  },
  {
   "cell_type": "code",
   "execution_count": 72,
   "metadata": {},
   "outputs": [],
   "source": [
    "word_features = gs_tvec.best_estimator_.named_steps['tvec'].get_feature_names()\n",
    "word_coef = gs_tvec.best_estimator_.named_steps['lr'].coef_[0]"
   ]
  },
  {
   "cell_type": "code",
   "execution_count": 75,
   "metadata": {},
   "outputs": [
    {
     "data": {
      "text/html": [
       "<div>\n",
       "<style scoped>\n",
       "    .dataframe tbody tr th:only-of-type {\n",
       "        vertical-align: middle;\n",
       "    }\n",
       "\n",
       "    .dataframe tbody tr th {\n",
       "        vertical-align: top;\n",
       "    }\n",
       "\n",
       "    .dataframe thead th {\n",
       "        text-align: right;\n",
       "    }\n",
       "</style>\n",
       "<table border=\"1\" class=\"dataframe\">\n",
       "  <thead>\n",
       "    <tr style=\"text-align: right;\">\n",
       "      <th></th>\n",
       "      <th>feature</th>\n",
       "      <th>coef</th>\n",
       "    </tr>\n",
       "  </thead>\n",
       "  <tbody>\n",
       "    <tr>\n",
       "      <th>2317</th>\n",
       "      <td>solo</td>\n",
       "      <td>3.799834</td>\n",
       "    </tr>\n",
       "    <tr>\n",
       "      <th>2669</th>\n",
       "      <td>travel</td>\n",
       "      <td>3.217139</td>\n",
       "    </tr>\n",
       "    <tr>\n",
       "      <th>1126</th>\n",
       "      <td>hostel</td>\n",
       "      <td>2.394855</td>\n",
       "    </tr>\n",
       "    <tr>\n",
       "      <th>474</th>\n",
       "      <td>country</td>\n",
       "      <td>2.214629</td>\n",
       "    </tr>\n",
       "    <tr>\n",
       "      <th>482</th>\n",
       "      <td>covid</td>\n",
       "      <td>2.077941</td>\n",
       "    </tr>\n",
       "    <tr>\n",
       "      <th>2684</th>\n",
       "      <td>traveling</td>\n",
       "      <td>1.781792</td>\n",
       "    </tr>\n",
       "    <tr>\n",
       "      <th>726</th>\n",
       "      <td>europe</td>\n",
       "      <td>1.519933</td>\n",
       "    </tr>\n",
       "    <tr>\n",
       "      <th>1557</th>\n",
       "      <td>mexico</td>\n",
       "      <td>1.376094</td>\n",
       "    </tr>\n",
       "    <tr>\n",
       "      <th>1863</th>\n",
       "      <td>people</td>\n",
       "      <td>1.317174</td>\n",
       "    </tr>\n",
       "    <tr>\n",
       "      <th>1591</th>\n",
       "      <td>month</td>\n",
       "      <td>1.269691</td>\n",
       "    </tr>\n",
       "  </tbody>\n",
       "</table>\n",
       "</div>"
      ],
      "text/plain": [
       "        feature      coef\n",
       "2317       solo  3.799834\n",
       "2669     travel  3.217139\n",
       "1126     hostel  2.394855\n",
       "474     country  2.214629\n",
       "482       covid  2.077941\n",
       "2684  traveling  1.781792\n",
       "726      europe  1.519933\n",
       "1557     mexico  1.376094\n",
       "1863     people  1.317174\n",
       "1591      month  1.269691"
      ]
     },
     "execution_count": 75,
     "metadata": {},
     "output_type": "execute_result"
    }
   ],
   "source": [
    "coef_df = pd.DataFrame({'feature':word_features,'coef':word_coef})\n",
    "coef_df.sort_values(by=['coef'], inplace=True, ascending=False)\n",
    "coef_df.head(10)"
   ]
  },
  {
   "cell_type": "code",
   "execution_count": 76,
   "metadata": {},
   "outputs": [
    {
     "data": {
      "text/html": [
       "<div>\n",
       "<style scoped>\n",
       "    .dataframe tbody tr th:only-of-type {\n",
       "        vertical-align: middle;\n",
       "    }\n",
       "\n",
       "    .dataframe tbody tr th {\n",
       "        vertical-align: top;\n",
       "    }\n",
       "\n",
       "    .dataframe thead th {\n",
       "        text-align: right;\n",
       "    }\n",
       "</style>\n",
       "<table border=\"1\" class=\"dataframe\">\n",
       "  <thead>\n",
       "    <tr style=\"text-align: right;\">\n",
       "      <th></th>\n",
       "      <th>feature</th>\n",
       "      <th>coef</th>\n",
       "    </tr>\n",
       "  </thead>\n",
       "  <tbody>\n",
       "    <tr>\n",
       "      <th>2390</th>\n",
       "      <td>station</td>\n",
       "      <td>-1.124461</td>\n",
       "    </tr>\n",
       "    <tr>\n",
       "      <th>1633</th>\n",
       "      <td>nara</td>\n",
       "      <td>-1.149455</td>\n",
       "    </tr>\n",
       "    <tr>\n",
       "      <th>1034</th>\n",
       "      <td>hakone</td>\n",
       "      <td>-1.214311</td>\n",
       "    </tr>\n",
       "    <tr>\n",
       "      <th>1771</th>\n",
       "      <td>onsen</td>\n",
       "      <td>-1.318918</td>\n",
       "    </tr>\n",
       "    <tr>\n",
       "      <th>1957</th>\n",
       "      <td>prefecture</td>\n",
       "      <td>-1.328595</td>\n",
       "    </tr>\n",
       "    <tr>\n",
       "      <th>1245</th>\n",
       "      <td>japanese</td>\n",
       "      <td>-2.032444</td>\n",
       "    </tr>\n",
       "    <tr>\n",
       "      <th>1793</th>\n",
       "      <td>osaka</td>\n",
       "      <td>-2.553233</td>\n",
       "    </tr>\n",
       "    <tr>\n",
       "      <th>1348</th>\n",
       "      <td>kyoto</td>\n",
       "      <td>-2.758157</td>\n",
       "    </tr>\n",
       "    <tr>\n",
       "      <th>2594</th>\n",
       "      <td>tokyo</td>\n",
       "      <td>-4.797825</td>\n",
       "    </tr>\n",
       "    <tr>\n",
       "      <th>1229</th>\n",
       "      <td>japan</td>\n",
       "      <td>-4.841777</td>\n",
       "    </tr>\n",
       "  </tbody>\n",
       "</table>\n",
       "</div>"
      ],
      "text/plain": [
       "         feature      coef\n",
       "2390     station -1.124461\n",
       "1633        nara -1.149455\n",
       "1034      hakone -1.214311\n",
       "1771       onsen -1.318918\n",
       "1957  prefecture -1.328595\n",
       "1245    japanese -2.032444\n",
       "1793       osaka -2.553233\n",
       "1348       kyoto -2.758157\n",
       "2594       tokyo -4.797825\n",
       "1229       japan -4.841777"
      ]
     },
     "execution_count": 76,
     "metadata": {},
     "output_type": "execute_result"
    }
   ],
   "source": [
    "coef_df.tail(10)"
   ]
  },
  {
   "cell_type": "markdown",
   "metadata": {},
   "source": [
    "Coefficient of each word feature represents the log odds that a posts is correctly classified. This means that 1 unit change in a word would increase log odds of success.\n",
    "\n",
    "**Positive coefficients** increases the log odds and thus increases the posibility that the post will be clasified as SoloTravel\n",
    "\n",
    "**Negative coefficients** decreases the log oods and thus decreases the probability that a post will be classifed as Solotravel.\n",
    "\n",
    "Thus, words with **positive coefficients** are associated with SoloTravel\n",
    "\n",
    "Words with **negative coefficients** are associated with JapanTravel"
   ]
  },
  {
   "cell_type": "code",
   "execution_count": 130,
   "metadata": {
    "scrolled": false
   },
   "outputs": [
    {
     "data": {
      "image/png": "[encoded data removed]",
      "text/plain": [
       "<Figure size 3600x2880 with 1 Axes>"
      ]
     },
     "metadata": {},
     "output_type": "display_data"
    }
   ],
   "source": [
    "#top 10 words of JapanTravel and SoloTravel\n",
    "coef_df_10 = pd.concat([coef_df.head(10), coef_df.tail(10)])\n",
    "\n",
    "#plot using sns\n",
    "sns.set(style='whitegrid',rc={\"figure.figsize\": (50, 40)})\n",
    "sns.barplot(y='feature',x='coef', data=coef_df_10, palette=(\"vlag\"), hue_order=[\"JapanTravel, SoloTravel\"])\n",
    "plt.title('Top 10 Influential Words', fontsize=80)\n",
    "plt.tick_params(labelsize=50)\n",
    "plt.xlabel('Coefficient', fontsize=60)\n",
    "plt.ylabel('Words', fontsize=60)\n",
    "plt.savefig('top_10.jpg')"
   ]
  },
  {
   "cell_type": "markdown",
   "metadata": {},
   "source": [
    "### Classification Metrics"
   ]
  },
  {
   "cell_type": "code",
   "execution_count": 109,
   "metadata": {},
   "outputs": [
    {
     "name": "stdout",
     "output_type": "stream",
     "text": [
      "True Negatives: 234\n",
      "False Positives: 11\n",
      "False Negatives: 9\n",
      "True Positives: 214\n"
     ]
    }
   ],
   "source": [
    "#performing the same matrix calculation as above\n",
    "tn, fp, fn, tp = confusion_matrix(y_test, preds_tvec).ravel()\n",
    "print(\"True Negatives: %s\" % tn)\n",
    "print(\"False Positives: %s\" % fp)\n",
    "print(\"False Negatives: %s\" % fn)\n",
    "print(\"True Positives: %s\" % tp)"
   ]
  },
  {
   "cell_type": "code",
   "execution_count": 108,
   "metadata": {},
   "outputs": [
    {
     "data": {
      "text/html": [
       "<div>\n",
       "<style scoped>\n",
       "    .dataframe tbody tr th:only-of-type {\n",
       "        vertical-align: middle;\n",
       "    }\n",
       "\n",
       "    .dataframe tbody tr th {\n",
       "        vertical-align: top;\n",
       "    }\n",
       "\n",
       "    .dataframe thead th {\n",
       "        text-align: right;\n",
       "    }\n",
       "</style>\n",
       "<table border=\"1\" class=\"dataframe\">\n",
       "  <thead>\n",
       "    <tr style=\"text-align: right;\">\n",
       "      <th></th>\n",
       "      <th>Predicted JapanTravel</th>\n",
       "      <th>Predicted Solotravel</th>\n",
       "    </tr>\n",
       "  </thead>\n",
       "  <tbody>\n",
       "    <tr>\n",
       "      <th>Actual JapanTravel</th>\n",
       "      <td>234</td>\n",
       "      <td>11</td>\n",
       "    </tr>\n",
       "    <tr>\n",
       "      <th>Actual SoloTravel</th>\n",
       "      <td>9</td>\n",
       "      <td>214</td>\n",
       "    </tr>\n",
       "  </tbody>\n",
       "</table>\n",
       "</div>"
      ],
      "text/plain": [
       "                    Predicted JapanTravel  Predicted Solotravel\n",
       "Actual JapanTravel                    234                    11\n",
       "Actual SoloTravel                       9                   214"
      ]
     },
     "execution_count": 108,
     "metadata": {},
     "output_type": "execute_result"
    }
   ],
   "source": [
    "cm = confusion_matrix(y_test, preds_tvec)\n",
    "#create a data frame for confusion matrix\n",
    "pd.DataFrame(data = cm, \n",
    "             columns = ['Predicted JapanTravel', 'Predicted Solotravel'],\n",
    "             index = ['Actual JapanTravel', 'Actual SoloTravel'])"
   ]
  },
  {
   "cell_type": "markdown",
   "metadata": {},
   "source": [
    "##### Precision"
   ]
  },
  {
   "cell_type": "code",
   "execution_count": 110,
   "metadata": {},
   "outputs": [
    {
     "name": "stdout",
     "output_type": "stream",
     "text": [
      "0.9511111111111111\n"
     ]
    }
   ],
   "source": [
    "prec = tp/(tp+fp)\n",
    "print(prec)"
   ]
  },
  {
   "cell_type": "markdown",
   "metadata": {},
   "source": [
    "Precision also known as the postive predicted value which also means if we predict a post to be SoloTravel, how many of these post are correctly classified as SoloTravel. At a precision score of 95%, it means that the risk of a type 1 error or false postives is 5%."
   ]
  },
  {
   "cell_type": "markdown",
   "metadata": {},
   "source": [
    "##### Recall"
   ]
  },
  {
   "cell_type": "code",
   "execution_count": 111,
   "metadata": {},
   "outputs": [
    {
     "name": "stdout",
     "output_type": "stream",
     "text": [
      "0.9596412556053812\n"
     ]
    }
   ],
   "source": [
    "recall =  tp / (tp + fn)\n",
    "print(recall)"
   ]
  },
  {
   "cell_type": "markdown",
   "metadata": {},
   "source": [
    "Recall is also known as the true positive rate which also means how many SoloPosts were correctly classified as a SoloPost if given that it is not a JapanTravel post. A recall score of 96% means a lower risk of type 2 error.\n"
   ]
  },
  {
   "cell_type": "code",
   "execution_count": 105,
   "metadata": {
    "scrolled": true
   },
   "outputs": [
    {
     "name": "stdout",
     "output_type": "stream",
     "text": [
      "              precision    recall  f1-score   support\n",
      "\n",
      "           0       0.98      0.85      0.91       245\n",
      "           1       0.86      0.98      0.91       223\n",
      "\n",
      "    accuracy                           0.91       468\n",
      "   macro avg       0.92      0.92      0.91       468\n",
      "weighted avg       0.92      0.91      0.91       468\n",
      "\n"
     ]
    }
   ],
   "source": [
    "print(classification_report(y_test,preds_nb))"
   ]
  },
  {
   "cell_type": "markdown",
   "metadata": {},
   "source": [
    "##### F1"
   ]
  },
  {
   "cell_type": "markdown",
   "metadata": {},
   "source": [
    "Our **F1** score measures the balance between precision and recall that we have calculated earlier. At a measure of 0.91, it is close to 1.0 and thus it can be and evaluation metric for a good model."
   ]
  },
  {
   "cell_type": "code",
   "execution_count": 106,
   "metadata": {},
   "outputs": [
    {
     "data": {
      "text/plain": [
       "0.9153198499130595"
      ]
     },
     "execution_count": 106,
     "metadata": {},
     "output_type": "execute_result"
    }
   ],
   "source": [
    "roc_auc_score(y_test, preds_nb)"
   ]
  },
  {
   "cell_type": "markdown",
   "metadata": {},
   "source": [
    "An ROC AUC score of 0.91 is close to 1.0 which means there is a good seperation bewteen the 2 sets of posts such that error of misclassification is lower."
   ]
  },
  {
   "cell_type": "markdown",
   "metadata": {},
   "source": [
    "## Recomendations and Conclusions\n",
    "\n",
    "* Using Logistic Regression with TFIDF Vectorizer on our subreddit posts, the model was able to classify both posts at an accuracy rate of **96%**\n",
    "\n",
    "* This was partially due to the Japan specific nature of some terms like Japanese Cities and Japanese infrastructure that would often appear in a JapanTravel Subreddit. \n",
    "\n",
    "* From the similar nature of travel, I would have expected that many posts would have been misclassfied. But having 20 misclassfied posts is still an acceptable range of error.\n",
    "\n",
    "* From the EDA performed on the most common and influential words, we do understand that the fundamental difference between the 2 posts came from which SoloTravel was more of sharing \"personal experiences\", whereas JapanTravel shares different itinearies within Japan itself, providing information on buses and trains and tourist locations.\n",
    "\n",
    "* Thus this can help travel companies segregate the market, and be more efficient to cater to the different needs of each travel requests."
   ]
  },
  {
   "cell_type": "markdown",
   "metadata": {},
   "source": [
    "## Further Exploration\n",
    "\n",
    "* Perhaps we could inlclude all the comments from reddit users reacting to each post. It could provide some interesting words that might be harder for the model to achieve such high accuracy scores. However we will require another API for us to scrap it from reddit.\n",
    "\n",
    "* We could have more than 1000 posts as well. Currently our API only allows us to obtain a maximum of 1000 posts. Having more posts, again, could come up with more vocablulary for our model.\n",
    "\n",
    "* Perhaps we could also adopt other models like Random Forest or KNN with boosting that could yield a higher accuracy score for this classification model. "
   ]
  }
 ],
 "metadata": {
  "kernelspec": {
   "display_name": "Python 3",
   "language": "python",
   "name": "python3"
  },
  "language_info": {
   "codemirror_mode": {
    "name": "ipython",
    "version": 3
   },
   "file_extension": ".py",
   "mimetype": "text/x-python",
   "name": "python",
   "nbconvert_exporter": "python",
   "pygments_lexer": "ipython3",
   "version": "3.8.3"
  }
 },
 "nbformat": 4,
 "nbformat_minor": 4
}
